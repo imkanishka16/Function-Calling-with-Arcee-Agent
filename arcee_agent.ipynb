{
 "cells": [
  {
   "cell_type": "code",
   "execution_count": 4,
   "metadata": {},
   "outputs": [
    {
     "name": "stdout",
     "output_type": "stream",
     "text": [
      "Note: you may need to restart the kernel to use updated packages.\n"
     ]
    },
    {
     "name": "stderr",
     "output_type": "stream",
     "text": [
      "\n",
      "[notice] A new release of pip is available: 24.0 -> 24.2\n",
      "[notice] To update, run: python.exe -m pip install --upgrade pip\n"
     ]
    }
   ],
   "source": [
    "%pip install -qU langchain_community yfinance"
   ]
  },
  {
   "cell_type": "code",
   "execution_count": 1,
   "metadata": {},
   "outputs": [],
   "source": [
    "from langchain_community.llms import Ollama\n",
    "import pprint\n",
    "import yfinance"
   ]
  },
  {
   "cell_type": "code",
   "execution_count": 2,
   "metadata": {},
   "outputs": [],
   "source": [
    "AGENT_MODEL_NAME = \"arcee-ai/arcee-agent\""
   ]
  },
  {
   "cell_type": "code",
   "execution_count": 3,
   "metadata": {},
   "outputs": [],
   "source": [
    "agent = Ollama(\n",
    "    model = AGENT_MODEL_NAME,\n",
    "    system = \"\"\"You are a helpful chat assistant\"\"\",\n",
    "    top_p = 0.7,\n",
    ")"
   ]
  },
  {
   "cell_type": "code",
   "execution_count": 5,
   "metadata": {},
   "outputs": [],
   "source": [
    "func_prompt = \"\"\"You have four primary functions: checking the last price of a specified stock, finding the name of a company CEO, finding what a company does, and answering specific questions about a company. Use the appropriate function based on the user's query.\n",
    "\n",
    "### Functions:\n",
    "\n",
    "1. **get_stock_price(company_name: str, stock_symbol: str) -> str**\n",
    "    - This function returns the last close price of a specified stock.\n",
    "    - Input: A company name (e.g., Mc Donalds), which you must convert to a stock symbol (e.g., MCD).\n",
    "    - Output: A string containing the last close price of the specified stock (e.g., \"The last closing price of Mc Donalds (MCD) is $250.00\").\n",
    "\n",
    "2. **get_ceo_name(company_name: str, stock_symbol: str) -> str**\n",
    "- This function returns the name of the CEO of a specified company.\n",
    "- Input: A company name (e.g., Mc Donalds), which you must convert to a stock symbol (e.g., MCD).\n",
    "- Output: A string containing the name of the CEO of the specified company (e.g., \"The CEO of Mc Donalds is John Doe\").\n",
    "\n",
    "3. **get_company_summary(company_name: str, stock_symbol: str) -> str**\n",
    "- This function returns a summary describing the business activities of a specified company.\n",
    "- Input: A company name (e.g., Mc Donalds), which you must convert to a stock symbol (e.g., MCD).\n",
    "- Output: A string containing a detailed summary of the specified company's business activities.\n",
    "\n",
    "4. **answer_general_question(question: str) -> str**\n",
    "    - This function answers questions in general.\n",
    "    - Input: a user question.\n",
    "    - Output: your best answer to the user question.\n",
    "\n",
    "### Instructions:\n",
    "\n",
    "- If the user asks a question related to the price of a stock, use the `get_stock_price` function.\n",
    "- If the user asks a question related to the CEO of a company, use the `get_ceo_name` function.\n",
    "- If the user asks a general question about a company's activities, use the `get_company_summary` function.\n",
    "- If the user asks any other question, use the `answer_general_question` function. Only return the result of the function call, not your internal reasoning.\n",
    "- Only return the result of the function call.\n",
    "\n",
    "### User Query:\\n\"\"\""
   ]
  },
  {
   "cell_type": "code",
   "execution_count": 6,
   "metadata": {},
   "outputs": [],
   "source": [
    "def get_stock_price(company_name, stock_symbol):\n",
    "    stock = yfinance.Ticker(stock_symbol)\n",
    "    price = stock.history(period=\"1d\")[\"Close\"].values[0]\n",
    "    return f\"The last closing price of {company_name} ({stock_symbol}) was ${price:.2f}.\"\n",
    "\n",
    "\n",
    "def get_ceo_name(company_name, stock_symbol):\n",
    "    stock = yfinance.Ticker(stock_symbol)\n",
    "    info = stock.info\n",
    "    ceo = info['companyOfficers'][0]['name']\n",
    "    return f\"The CEO of {company_name} is {ceo}. The full job title is {info['companyOfficers'][0]['title']}.\"\n",
    "\n",
    "\n",
    "def get_company_summary(company_name, stock_symbol):\n",
    "    stock = yfinance.Ticker(stock_symbol)\n",
    "    summary = stock.info['longBusinessSummary']\n",
    "    return f\"{company_name} ({stock_symbol}) is a company that is involved in {summary}.\"\n",
    "\n",
    "\n",
    "def answer_general_question(question):\n",
    "    ans = agent.invoke(f\"\"\"{question}\\n\"\"\")\n",
    "    return ans"
   ]
  },
  {
   "cell_type": "code",
   "execution_count": 7,
   "metadata": {},
   "outputs": [],
   "source": [
    "def function_call(input, model=agent, func_prompt=func_prompt):\n",
    "    \"\"\"\n",
    "    Interacts with an AI model by combining user input with a custom prompt.\n",
    "\n",
    "    Args:\n",
    "        input (str): The user's input string.\n",
    "        model (object, optional): The AI model to invoke. Defaults to agent.\n",
    "        func_prompt (str, optional): The custom prompt to combine with the user's input. Defaults to func_prompt.\n",
    "\n",
    "    Returns:\n",
    "        str: The response generated by the AI model in response to the combined prompt and input.\n",
    "    \"\"\"\n",
    "    payload = f\"\"\"{func_prompt}{input}\\n\"\"\"\n",
    "    ans = model.invoke(payload)\n",
    "    return ans"
   ]
  },
  {
   "cell_type": "code",
   "execution_count": 8,
   "metadata": {},
   "outputs": [],
   "source": [
    "def llm_pack(input):\n",
    "    \"\"\"\n",
    "    Evaluates a string generated by an AI model and returns the result.\n",
    "\n",
    "    This function wraps around 'function_call' to convert the AI's response into a executable code snippet,\n",
    "    executes it, and then returns the result. If any exception occurs during execution, it returns None.\n",
    "\n",
    "    Args:\n",
    "        input (str): The input to pass to 'function_call'.\n",
    "\n",
    "    Returns:\n",
    "        str: The result of the function call.\n",
    "    \"\"\"\n",
    "    try:\n",
    "        func = function_call(input).strip()\n",
    "        print(func)\n",
    "        code = f\"result = {func}\"\n",
    "        local_vars = {}\n",
    "        exec(code, globals(), local_vars)\n",
    "        ans = local_vars.get('result').strip()\n",
    "        return ans\n",
    "    except Exception as e:\n",
    "        return"
   ]
  },
  {
   "cell_type": "code",
   "execution_count": 9,
   "metadata": {},
   "outputs": [
    {
     "name": "stdout",
     "output_type": "stream",
     "text": [
      "get_stock_price(\"Tesla\", \"TSLA\")\n",
      "The last closing price of Tesla (TSLA) was $191.76.\n"
     ]
    }
   ],
   "source": [
    "response = llm_pack(\"What the stock price for Tesla?\")\n",
    "print(response)"
   ]
  },
  {
   "cell_type": "code",
   "execution_count": 10,
   "metadata": {},
   "outputs": [
    {
     "name": "stdout",
     "output_type": "stream",
     "text": [
      "get_ceo_name(\"Tesla\", \"TSLA\")\n",
      "The CEO of Tesla is Mr. Elon R. Musk. The full job title is Co-Founder, Technoking of Tesla, CEO & Director.\n"
     ]
    }
   ],
   "source": [
    "response = llm_pack(\"Who runs Tesla?\")\n",
    "print(response)"
   ]
  },
  {
   "cell_type": "code",
   "execution_count": 11,
   "metadata": {},
   "outputs": [
    {
     "name": "stdout",
     "output_type": "stream",
     "text": [
      "get_company_summary(\"Tesla\", \"TSLA\")\n",
      "('Tesla (TSLA) is a company that is involved in Tesla, Inc. designs, develops, '\n",
      " 'manufactures, leases, and sells electric vehicles, and energy generation and '\n",
      " 'storage systems in the United States, China, and internationally. The '\n",
      " 'company operates in two segments, Automotive, and Energy Generation and '\n",
      " 'Storage. The Automotive segment offers electric vehicles, as well as sells '\n",
      " 'automotive regulatory credits; and non-warranty after-sales vehicle, used '\n",
      " 'vehicles, body shop and parts, supercharging, retail merchandise, and '\n",
      " 'vehicle insurance services. This segment also provides sedans and sport '\n",
      " 'utility vehicles through direct and used vehicle sales, a network of Tesla '\n",
      " 'Superchargers, and in-app upgrades; purchase financing and leasing services; '\n",
      " 'services for electric vehicles through its company-owned service locations '\n",
      " 'and Tesla mobile service technicians; and vehicle limited warranties and '\n",
      " 'extended service plans. The Energy Generation and Storage segment engages in '\n",
      " 'the design, manufacture, installation, sale, and leasing of solar energy '\n",
      " 'generation and energy storage products, and related services to residential, '\n",
      " 'commercial, and industrial customers and utilities through its website, '\n",
      " 'stores, and galleries, as well as through a network of channel partners; and '\n",
      " 'provision of service and repairs to its energy product customers, including '\n",
      " 'under warranty, as well as various financing options to its solar customers. '\n",
      " 'The company was formerly known as Tesla Motors, Inc. and changed its name to '\n",
      " 'Tesla, Inc. in February 2017. Tesla, Inc. was incorporated in 2003 and is '\n",
      " 'headquartered in Austin, Texas..')\n"
     ]
    }
   ],
   "source": [
    "response = llm_pack(\"What does Tesla build?\")\n",
    "pprint.pprint(response)"
   ]
  },
  {
   "cell_type": "code",
   "execution_count": 12,
   "metadata": {},
   "outputs": [
    {
     "name": "stdout",
     "output_type": "stream",
     "text": [
      "answer_general_question(\"Who are the main competitors of Tesla?\")\n",
      "Tesla's primary competitors in the electric vehicle (EV) market include:\n",
      "\n",
      "1. **Nissan Leaf**: Nissan's first mass-produced EV, offering an affordable and well-established option for consumers.\n",
      "2. **Chevrolet Bolt**: A longer-range EV from General Motors, targeting the same market segment as Tesla's Model 3.\n",
      "3. **Kia Niro EV**: A compact crossover SUV with competitive range and features at a lower price point than some of Tesla's models.\n",
      "4. **Volkswagen ID.4**: Volkswagen's first fully electric vehicle, designed to challenge Tesla in the mid-size SUV market.\n",
      "5. **BMW iX3**: BMW's entry into the luxury EV segment, offering performance and features similar to Tesla's vehicles.\n",
      "6. **Mercedes-Benz EQC**: Mercedes' first all-electric SUV, targeting a premium customer base with advanced technology and design.\n",
      "7. **Ford Mustang Mach-E**: A sporty crossover SUV that competes directly with Tesla's Model Y in terms of style and performance.\n",
      "8. **Audi e-tron**: Audi's luxury EV offering, positioned to compete with Tesla's higher-end models like the Model S and X.\n",
      "9. **Jaguar I-PACE**: Jaguar's first electric vehicle, designed to appeal to luxury car buyers looking for a high-performance EV option.\n",
      "10. **Hyundai Kona Electric**: A compact SUV that offers good value for money and competes with Tesla's lower-priced models like the Model 3.\n",
      "\n",
      "Additionally, there are many other manufacturers entering or expanding their EV offerings, such as:\n",
      "\n",
      "- **Toyota**\n",
      "- **Honda**\n",
      "- **Mitsubishi**\n",
      "- **Renault**\n",
      "- **Suzuki**\n",
      "- **Volvo**\n",
      "\n",
      "These companies are all increasing their focus on electric vehicles and expanding their product lines to compete with Tesla in various segments of the market.\n"
     ]
    }
   ],
   "source": [
    "response = llm_pack(\"Who are the main competitors of Tesla?\")\n",
    "print(response)"
   ]
  },
  {
   "cell_type": "code",
   "execution_count": null,
   "metadata": {},
   "outputs": [],
   "source": []
  }
 ],
 "metadata": {
  "kernelspec": {
   "display_name": "Python 3",
   "language": "python",
   "name": "python3"
  },
  "language_info": {
   "codemirror_mode": {
    "name": "ipython",
    "version": 3
   },
   "file_extension": ".py",
   "mimetype": "text/x-python",
   "name": "python",
   "nbconvert_exporter": "python",
   "pygments_lexer": "ipython3",
   "version": "3.11.5"
  }
 },
 "nbformat": 4,
 "nbformat_minor": 2
}
