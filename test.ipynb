{
 "cells": [
  {
   "cell_type": "code",
   "execution_count": 1,
   "metadata": {},
   "outputs": [],
   "source": [
    "from langchain_community.llms import Ollama\n",
    "import pprint"
   ]
  },
  {
   "cell_type": "code",
   "execution_count": 2,
   "metadata": {},
   "outputs": [],
   "source": [
    "AGENT_MODEL_NAME = \"arcee-ai/arcee-agent\""
   ]
  },
  {
   "cell_type": "code",
   "execution_count": 3,
   "metadata": {},
   "outputs": [],
   "source": [
    "agent = Ollama(\n",
    "    model = AGENT_MODEL_NAME,\n",
    "    system = \"\"\"You are a helpful chat assistant\"\"\",\n",
    "    top_p = 0.7,\n",
    ")"
   ]
  },
  {
   "cell_type": "code",
   "execution_count": 4,
   "metadata": {},
   "outputs": [],
   "source": [
    "func_prompt = \"\"\"You have four primary functions: retrieving available packages, retrieving special offers, and retrieving new packages, and answering specific questions user about packages and promotions. Use the appropriate function based on the user's query.\n",
    "\n",
    "### Functions:\n",
    "\n",
    "1. **get_list_data() -> tuple**\n",
    "    - This function sends a GET request to the '/list' endpoint to retrieve the list data.\n",
    "    - Input: None.\n",
    "    - Output: A JSON object containing the list of available packages from the server. Example categories include mobile broadband, home broadband, and dialog TV.\n",
    "\n",
    "2. **get_special_offers() -> tuple**\n",
    "    - This function sends a GET request to the '/special_offers' endpoint to retrieve the special offers.\n",
    "    - Input: None.\n",
    "    - Output: A plain text string containing the formatted special offers from the server. Example offers include home broadband offers, mobile broadband offers, and TV offers.\n",
    "\n",
    "3. **get_new_packages_data() -> tuple**\n",
    "    - This function sends a GET request to the '/new_package' endpoint to retrieve the new packages data.\n",
    "    - Input: None.\n",
    "    - Output: A JSON object containing the new packages data from the server. Example packages include new mobile plans and new home broadband plans.\n",
    "    \n",
    "4. **answer_general_question(question: str) -> str**\n",
    "    - This function answers questions in general.\n",
    "    - Input: a user question.\n",
    "    - Output: your best answer to the user question.\n",
    "\n",
    "### Instructions:\n",
    "\n",
    "- If the user asks for a list of available packages (keywords: \"available packages\", \"list of packages\", \"broadband plans\", \"TV packages\"), call `get_list_data` function to answer.\n",
    "- If the user asks for current special offers or promotions (keywords: \"special offers\", \"promotions\", \"current deals\"), use the `get_special_offers` function.\n",
    "- If the user asks for information about new packages (keywords: \"new packages\", \"new plans\", \"recently introduced packages\"), use the `get_new_packages_data` function.\n",
    "- If the user asks any other question, use the `answer_general_question` function. Only return the result about telecommunication.\n",
    "- Only return the result of the function call, not your internal reasoning.\n",
    "\n",
    "### User Query:\\n\"\"\""
   ]
  },
  {
   "cell_type": "code",
   "execution_count": 5,
   "metadata": {},
   "outputs": [],
   "source": [
    "import requests\n",
    "# def get_register_status(nic_number):\n",
    "#     \"\"\"\n",
    "#     Send a POST request to the '/register_status' endpoint to check if a NIC number is registered.\n",
    "\n",
    "#     Args:\n",
    "#         nic_number (str): The NIC number to check.\n",
    "\n",
    "#     Returns:\n",
    "#         dict: The JSON response from the server.\n",
    "#     \"\"\"\n",
    "#     url = 'http://localhost:5000/register_status'\n",
    "#     data = {'nic_number': nic_number}\n",
    "#     response = requests.post(url, data=data)\n",
    "#     return response.json(), response.status_code\n",
    "\n",
    "def get_list_data():\n",
    "    \"\"\"\n",
    "    Send a GET request to the '/list' endpoint to retrieve the list data.\n",
    "\n",
    "    Returns:\n",
    "        dict: The JSON response from the server.\n",
    "    \"\"\"\n",
    "    url = 'http://localhost:5000/list'\n",
    "    response = requests.get(url)\n",
    "    return response.json(), response.status_code\n",
    "\n",
    "def get_special_offers():\n",
    "    \"\"\"\n",
    "    Send a GET request to the '/special_offers' endpoint to retrieve the special offers.\n",
    "\n",
    "    Returns:\n",
    "        str: The plain text response from the server.\n",
    "    \"\"\"\n",
    "    url = 'http://localhost:5000/special_offers'\n",
    "    response = requests.get(url)\n",
    "    return response.text, response.status_code\n",
    "\n",
    "def get_new_packages_data():\n",
    "    \"\"\"\n",
    "    Send a GET request to the '/new_package' endpoint to retrieve the new packages data.\n",
    "\n",
    "    Returns:\n",
    "        dict: The JSON response from the server.\n",
    "    \"\"\"\n",
    "    url = 'http://localhost:5000/new_package'\n",
    "    response = requests.get(url)\n",
    "    return response.json(), response.status_code\n",
    "\n",
    "def answer_general_question(question):\n",
    "    ans = agent.invoke(f\"\"\"{question}\\n\"\"\")\n",
    "    return ans"
   ]
  },
  {
   "cell_type": "code",
   "execution_count": 6,
   "metadata": {},
   "outputs": [],
   "source": [
    "def function_call(input, model=agent, func_prompt=func_prompt):\n",
    "    \"\"\"\n",
    "    Interacts with an AI model by combining user input with a custom prompt.\n",
    "\n",
    "    Args:\n",
    "        input (str): The user's input string.\n",
    "        model (object, optional): The AI model to invoke. Defaults to agent.\n",
    "        func_prompt (str, optional): The custom prompt to combine with the user's input. Defaults to func_prompt.\n",
    "\n",
    "    Returns:\n",
    "        str: The response generated by the AI model in response to the combined prompt and input.\n",
    "    \"\"\"\n",
    "    payload = f\"\"\"{func_prompt}{input}\\n\"\"\"\n",
    "    ans = model.invoke(payload)\n",
    "    return ans"
   ]
  },
  {
   "cell_type": "code",
   "execution_count": 7,
   "metadata": {},
   "outputs": [],
   "source": [
    "def llm_pack(input):\n",
    "    \"\"\"\n",
    "    Evaluates a string generated by an AI model and returns the result.\n",
    "\n",
    "    This function wraps around 'function_call' to convert the AI's response into a executable code snippet,\n",
    "    executes it, and then returns the result. If any exception occurs during execution, it returns None.\n",
    "\n",
    "    Args:\n",
    "        input (str): The input to pass to 'function_call'.\n",
    "\n",
    "    Returns:\n",
    "        str: The result of the function call.\n",
    "    \"\"\"\n",
    "    try:\n",
    "        func = function_call(input)\n",
    "        # func = func.strip()\n",
    "        print(func)\n",
    "        code = f\"result = {func}\"\n",
    "        local_vars = {}\n",
    "        exec(code, globals(), local_vars)\n",
    "        ans = local_vars.get('result')\n",
    "        return ans\n",
    "    except Exception as e:\n",
    "        print(f\"Error processing LLM output: {e}\")\n",
    "        return None"
   ]
  },
  {
   "cell_type": "code",
   "execution_count": 14,
   "metadata": {},
   "outputs": [
    {
     "name": "stdout",
     "output_type": "stream",
     "text": [
      "get_list_data()\n",
      "({'dialog_tv': [{'connectionType': 'Postpaid',\n",
      "                 'packages': ['Pearl', 'Thee', 'Diamond']},\n",
      "                {'connectionType': 'Prepaid',\n",
      "                 'packages': ['Super Saver', 'Super Lite', 'Super Value']}],\n",
      "  'home_broadband': [{'connectionName': 'Postpaid',\n",
      "                      'packages': ['Anytime', 'Unlimited', 'Gaming']},\n",
      "                     {'connectionName': 'Prepaid',\n",
      "                      'packages': ['20GB Super saver 30 day add-on',\n",
      "                                   'YouTube & Social Media plan',\n",
      "                                   'Work & Learn Plus 672']}],\n",
      "  'mobile_broadband': [{'connectionName': 'Postpaid'},\n",
      "                       {'connectionName': 'Prepaid'}]},\n",
      " 200)\n"
     ]
    }
   ],
   "source": [
    "response = llm_pack(\"what are available packages\")\n",
    "pprint.pprint(response)"
   ]
  },
  {
   "cell_type": "code",
   "execution_count": null,
   "metadata": {},
   "outputs": [],
   "source": []
  },
  {
   "cell_type": "code",
   "execution_count": null,
   "metadata": {},
   "outputs": [],
   "source": []
  },
  {
   "cell_type": "code",
   "execution_count": null,
   "metadata": {},
   "outputs": [],
   "source": []
  }
 ],
 "metadata": {
  "kernelspec": {
   "display_name": "Python 3",
   "language": "python",
   "name": "python3"
  },
  "language_info": {
   "codemirror_mode": {
    "name": "ipython",
    "version": 3
   },
   "file_extension": ".py",
   "mimetype": "text/x-python",
   "name": "python",
   "nbconvert_exporter": "python",
   "pygments_lexer": "ipython3",
   "version": "3.11.5"
  }
 },
 "nbformat": 4,
 "nbformat_minor": 2
}
